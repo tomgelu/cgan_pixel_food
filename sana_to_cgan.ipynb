{
 "cells": [
  {
   "cell_type": "code",
   "execution_count": null,
   "metadata": {
    "vscode": {
     "languageId": "plaintext"
    }
   },
   "outputs": [],
   "source": [
    "from google.colab import drive\n",
    "drive.mount('/content/drive')\n"
   ]
  },
  {
   "cell_type": "code",
   "execution_count": null,
   "metadata": {
    "vscode": {
     "languageId": "plaintext"
    }
   },
   "outputs": [],
   "source": [
    "!git clone https://github.com/NVlabs/Sana.git\n",
    "%cd Sana\n",
    "!pip install -q -r requirements.txt"
   ]
  },
  {
   "cell_type": "code",
   "execution_count": null,
   "metadata": {
    "vscode": {
     "languageId": "plaintext"
    }
   },
   "outputs": [],
   "source": [
    "import os, torch\n",
    "from sana_pipeline import SanaPipeline\n",
    "\n",
    "device = \"cuda\" if torch.cuda.is_available() else \"cpu\"\n",
    "pipe = SanaPipeline.from_pretrained(\"nv-tlabs/sana-stable-diffusion\").to(device)\n",
    "\n",
    "prompts = [\n",
    "    \"Pixel art Ghibli style: Chicken rice curry dish, warm colors, cozy\",\n",
    "    \"Pixel art Ghibli style: Pepperoni pizza, vibrant and tasty\",\n",
    "    \"Pixel art Ghibli style: Fresh salad with avocado and tomato, pastel colors\",\n",
    "    \"Pixel art Ghibli style: Classic burger with bacon and lettuce, charming\",\n",
    "    \"Pixel art Ghibli style: Pasta with tomato sauce, cozy cottage style\",\n",
    "    \"Pixel art Ghibli style: Sushi plate with tuna and cucumber, soft palette\",\n",
    "    \"Pixel art Ghibli style: Steak with potatoes, rustic tavern style\",\n",
    "    \"Pixel art Ghibli style: Carrot ginger soup, warm and comforting\",\n",
    "    \"Pixel art Ghibli style: Chocolate cake topped with strawberries, whimsical\",\n",
    "    \"Pixel art Ghibli style: Grilled salmon with asparagus, seaside tavern feel\",\n",
    "    \"Pixel art Ghibli style: Cheese and spinach omelette, morning sunlight mood\",\n",
    "    \"Pixel art Ghibli style: Pancakes with syrup, cozy breakfast\",\n",
    "    \"Pixel art Ghibli style: Shrimp sautéed in garlic butter, coastal atmosphere\",\n",
    "    \"Pixel art Ghibli style: Beef lasagna, warm family dinner scene\",\n",
    "    \"Pixel art Ghibli style: Vegetable stir-fry noodles, vibrant street market\",\n",
    "    \"Pixel art Ghibli style: Fruit salad with pineapple, mango, sunny picnic\",\n",
    "    \"Pixel art Ghibli style: Roasted chicken with herbs, countryside tavern\",\n",
    "    \"Pixel art Ghibli style: Mushroom risotto, woodland cottage vibe\",\n",
    "    \"Pixel art Ghibli style: Fish tacos with fresh salsa, beachside charm\",\n",
    "    \"Pixel art Ghibli style: Avocado toast with egg, cozy morning glow\"\n",
    "]\n",
    "\n",
    "\n",
    "output_dir = \"/content/drive/MyDrive/SANA_dataset\"\n",
    "os.makedirs(output_dir, exist_ok=True)\n",
    "\n",
    "for idx, prompt in enumerate(prompts):\n",
    "    img = pipe(prompt, guidance_scale=7.5).images[0]\n",
    "    img.save(f\"{output_dir}/dish_{idx}.png\")\n",
    "    print(f\"Généré : {prompt}\")\n",
    "\n",
    "print(\"✅ Dataset prêt dans ton Drive.\")\n"
   ]
  },
  {
   "cell_type": "code",
   "execution_count": null,
   "metadata": {
    "vscode": {
     "languageId": "plaintext"
    }
   },
   "outputs": [],
   "source": [
    "import torch\n",
    "from torchvision import transforms\n",
    "from PIL import Image\n",
    "import numpy as np\n",
    "\n",
    "# Chargement des images\n",
    "dataset_path = \"/content/drive/MyDrive/SANA_dataset\"\n",
    "images_files = sorted([os.path.join(dataset_path, f) for f in os.listdir(dataset_path)])\n",
    "\n",
    "# Exemples de vecteurs conditionnels simplifiés\n",
    "conditions = torch.eye(len(images_files)) # condition en one-hot (1 plat = 1 vecteur unique)\n",
    "\n",
    "# Prétraitement images\n",
    "transform = transforms.Compose([\n",
    "    transforms.Resize((128,128)),\n",
    "    transforms.ToTensor()\n",
    "])\n",
    "\n",
    "images = torch.stack([transform(Image.open(f)) for f in images_files])\n",
    "\n",
    "# Dataset final\n",
    "train_conditions, train_images = conditions, images\n",
    "\n",
    "print(f\"Conditions: {train_conditions.shape}, Images: {train_images.shape}\")\n"
   ]
  },
  {
   "cell_type": "code",
   "execution_count": null,
   "metadata": {
    "vscode": {
     "languageId": "plaintext"
    }
   },
   "outputs": [],
   "source": [
    "import torch.nn as nn\n",
    "import torch.optim as optim\n",
    "\n",
    "# Modèle simplifié : Condition (vecteur) → Image\n",
    "class SimpleGenerator(nn.Module):\n",
    "    def __init__(self, input_dim, output_channels=3):\n",
    "        super().__init__()\n",
    "        self.fc = nn.Sequential(\n",
    "            nn.Linear(input_dim, 128*16*16),\n",
    "            nn.ReLU()\n",
    "        )\n",
    "        self.conv = nn.Sequential(\n",
    "            nn.ConvTranspose2d(128,64,4,2,1),\n",
    "            nn.ReLU(),\n",
    "            nn.ConvTranspose2d(64,32,4,2,1),\n",
    "            nn.ReLU(),\n",
    "            nn.ConvTranspose2d(32,output_channels,4,2,1),\n",
    "            nn.Sigmoid()\n",
    "        )\n",
    "\n",
    "    def forward(self,x):\n",
    "        x = self.fc(x).view(-1,128,16,16)\n",
    "        x = self.conv(x)\n",
    "        return x\n",
    "\n",
    "gen = SimpleGenerator(input_dim=len(images_files)).to(device)\n",
    "optimizer = optim.Adam(gen.parameters(), lr=0.001)\n",
    "criterion = nn.MSELoss()\n",
    "\n",
    "# Entraînement rapide (100 epochs)\n",
    "for epoch in range(100):\n",
    "    optimizer.zero_grad()\n",
    "    output = gen(train_conditions.to(device))\n",
    "    loss = criterion(output, train_images.to(device))\n",
    "    loss.backward()\n",
    "    optimizer.step()\n",
    "    if epoch % 20 == 0:\n",
    "        print(f\"Epoch {epoch}/100 - Loss : {loss.item():.4f}\")\n",
    "\n",
    "print(\"✅ Entraînement terminé.\")\n"
   ]
  },
  {
   "cell_type": "code",
   "execution_count": null,
   "metadata": {
    "vscode": {
     "languageId": "plaintext"
    }
   },
   "outputs": [],
   "source": [
    "import matplotlib.pyplot as plt\n",
    "\n",
    "# Test rapide (par exemple le plat n°2)\n",
    "test_idx = 2\n",
    "with torch.no_grad():\n",
    "    generated_image = gen(train_conditions[test_idx:test_idx+1].to(device)).cpu()[0]\n",
    "\n",
    "# Affichage\n",
    "plt.imshow(np.transpose(generated_image.numpy(), (1,2,0)))\n",
    "plt.title(f\"Plat généré : {prompts[test_idx]}\")\n",
    "plt.axis('off')\n",
    "plt.show()\n"
   ]
  },
  {
   "cell_type": "code",
   "execution_count": null,
   "metadata": {
    "vscode": {
     "languageId": "plaintext"
    }
   },
   "outputs": [],
   "source": [
    "dummy_input = train_conditions[0:1].to(device)\n",
    "torch.onnx.export(\n",
    "    gen, dummy_input, \"/content/drive/MyDrive/cgan_plats.onnx\",\n",
    "    export_params=True,\n",
    "    opset_version=11,\n",
    "    input_names=['ingredients'],\n",
    "    output_names=['generated_dish']\n",
    ")\n",
    "\n",
    "print(\"✅ Modèle exporté en ONNX dans ton Drive.\")\n"
   ]
  },
  {
   "cell_type": "code",
   "execution_count": null,
   "metadata": {
    "vscode": {
     "languageId": "plaintext"
    }
   },
   "outputs": [],
   "source": []
  }
 ],
 "metadata": {
  "language_info": {
   "name": "python"
  }
 },
 "nbformat": 4,
 "nbformat_minor": 2
}
